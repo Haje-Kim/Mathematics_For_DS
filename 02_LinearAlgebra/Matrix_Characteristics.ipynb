{
 "cells": [
  {
   "cell_type": "markdown",
   "source": [
    "# **2.3 Matrix Characteristics**"
   ],
   "metadata": {}
  },
  {
   "cell_type": "markdown",
   "source": [
    "* When $x^TAx > 0$, matrix A is **positive definite**\r\n",
    "* When $x^TAx \\ge 0$, matrix A is **positive semi-definite**"
   ],
   "metadata": {}
  },
  {
   "cell_type": "markdown",
   "source": [
    "## **Matrix Norm**"
   ],
   "metadata": {}
  },
  {
   "cell_type": "markdown",
   "source": [
    "* **Entrywise matrix norm**\r\n",
    "* $||A||_p=(\\Sigma_{N}^{i=1}\\Sigma_{M}^{j=1}|a_{ij}|^p)^{1/p}$\r\n",
    "* p is usually 1, 2, or $\\infty$"
   ],
   "metadata": {}
  },
  {
   "cell_type": "markdown",
   "source": [
    "* **Frobenius norm**\r\n",
    "* where $p=2$, $||A||_F$\r\n",
    "* $||A||=||A||_2=||A||_F=\\sqrt{\\Sigma_{i=1}^{N}\\Sigma_{j=1}^{M}a_{ij}^2}$"
   ],
   "metadata": {}
  },
  {
   "cell_type": "markdown",
   "source": [
    "* **a norm is always equal to or bigger than 0**"
   ],
   "metadata": {}
  },
  {
   "cell_type": "markdown",
   "source": [
    "* **A squared vector norm equals squared vector Sigma**\r\n",
    "* $||x||^2=\\Sigma_{i=1}^{N}x_i^2=x^Tx$"
   ],
   "metadata": {}
  },
  {
   "cell_type": "markdown",
   "source": [
    "* **Minimizing a norm is same as minimizing vector Sigma**"
   ],
   "metadata": {}
  },
  {
   "cell_type": "code",
   "execution_count": 1,
   "source": [
    "import numpy as np\r\n",
    "\r\n",
    "A = (np.arange(9) - 4).reshape((3,3))\r\n",
    "A"
   ],
   "outputs": [
    {
     "output_type": "execute_result",
     "data": {
      "text/plain": [
       "array([[-4, -3, -2],\n",
       "       [-1,  0,  1],\n",
       "       [ 2,  3,  4]])"
      ]
     },
     "metadata": {},
     "execution_count": 1
    }
   ],
   "metadata": {}
  },
  {
   "cell_type": "code",
   "execution_count": 2,
   "source": [
    "np.linalg.norm(A)"
   ],
   "outputs": [
    {
     "output_type": "execute_result",
     "data": {
      "text/plain": [
       "7.745966692414834"
      ]
     },
     "metadata": {},
     "execution_count": 2
    }
   ],
   "metadata": {}
  },
  {
   "cell_type": "markdown",
   "source": [
    "## **The 4 characteristics of norm**"
   ],
   "metadata": {}
  },
  {
   "cell_type": "markdown",
   "source": [
    "1. **A norm is equal or bigger to 0. Only with zero matrix does norm become 0**\r\n",
    "* $||A|| \\ge 0$"
   ],
   "metadata": {}
  },
  {
   "cell_type": "markdown",
   "source": [
    "2. **when multiplying a scalar to a matrix, its norm is also multiplied by the absolute value of the scalar**\r\n",
    "* $||\\alpha A|| = |a|||A||$"
   ],
   "metadata": {}
  },
  {
   "cell_type": "markdown",
   "source": [
    "3. **The norm of the sum of two matrixes is less or equal to the sum of the two norms from each matrixes**\r\n",
    "* $||A+B|| \\le ||A||+||B||$"
   ],
   "metadata": {}
  },
  {
   "cell_type": "markdown",
   "source": [
    "4. **The norm of the multiplication of two squared matrixes is smaller than the summation of norms from each matrixes**\r\n",
    "* $||AB|| \\le ||A||||B||$"
   ],
   "metadata": {}
  },
  {
   "cell_type": "markdown",
   "source": [
    "## **Trace**"
   ],
   "metadata": {}
  },
  {
   "cell_type": "markdown",
   "source": [
    "* Trace is only defined in square matrix \r\n",
    "* $tr(A) = a_{11}+a_{22}+\\cdot \\cdot \\cdot+a_{NN}=\\Sigma_{i=1}^{N}a_{ii}$\r\n",
    "* $tr(I_N) = N$"
   ],
   "metadata": {}
  },
  {
   "cell_type": "markdown",
   "source": [
    "* Unlike norm,**a trace can have negative values**"
   ],
   "metadata": {}
  },
  {
   "cell_type": "markdown",
   "source": [
    "* $tr(cA) = ctr(A)$   \r\n",
    "\r\n",
    "\r\n",
    "* $tr(A^T) = tr(A)$\r\n",
    "\r\n",
    "* $tr(A+B) = tr(A)+tr(B)$\r\n",
    "* $tr(AB) = tr(BA)$\r\n",
    "* $tr(ABC) = tr(BCA) = tr(CAB)$\r\n",
    "* $tr((AB)C) = tr(C(AB)) = tr((CA)B) = tr(B(CA))$"
   ],
   "metadata": {}
  },
  {
   "cell_type": "markdown",
   "source": [
    "* **Trace Trick**\r\n",
    "* $x^TAx = tr(x^TAx) = tr(Axx^T) = tr(xx^TA)$"
   ],
   "metadata": {}
  },
  {
   "cell_type": "code",
   "execution_count": 2,
   "source": [
    "np.trace(np.eye(3))"
   ],
   "outputs": [
    {
     "output_type": "execute_result",
     "data": {
      "text/plain": [
       "3.0"
      ]
     },
     "metadata": {},
     "execution_count": 2
    }
   ],
   "metadata": {}
  },
  {
   "cell_type": "code",
   "execution_count": 20,
   "source": [
    "A = np.arange(1,10).reshape(3,3)\r\n",
    "int(np.linalg.norm(A)**2) == np.trace(A.T @ A)"
   ],
   "outputs": [
    {
     "output_type": "execute_result",
     "data": {
      "text/plain": [
       "True"
      ]
     },
     "metadata": {},
     "execution_count": 20
    }
   ],
   "metadata": {}
  },
  {
   "cell_type": "markdown",
   "source": [
    "## **Determinant**"
   ],
   "metadata": {}
  },
  {
   "cell_type": "markdown",
   "source": [
    "* The determinant of square matrix $A$ = $det(A), detA, |A|$"
   ],
   "metadata": {}
  },
  {
   "cell_type": "markdown",
   "source": [
    "* $det(\\begin{bmatrix} a, b \\\\ c, d \\end{bmatrix})=ad-bc$\r\n",
    "* $det(\\begin{bmatrix} a, b, c \\\\ d, e, f \\\\ g, h, i \\end{bmatrix})=aei+bfg+cdh-ceg-bdi-afh$"
   ],
   "metadata": {}
  },
  {
   "cell_type": "code",
   "execution_count": 23,
   "source": [
    "A = np.arange(1, 10).reshape(3,3)\r\n",
    "np.linalg.det(A)"
   ],
   "outputs": [
    {
     "output_type": "execute_result",
     "data": {
      "text/plain": [
       "-9.51619735392994e-16"
      ]
     },
     "metadata": {},
     "execution_count": 23
    }
   ],
   "metadata": {}
  },
  {
   "cell_type": "markdown",
   "source": [
    "* $det(A^T)=det(A)$\r\n",
    "* $det(I)=1$\r\n",
    "* $det(AB) = det(A)det(B)$\r\n",
    "* $A^{-1}A = AA^{-1}=I$\r\n",
    "* $det(A^{-1})=\\frac{1}{det(A)}$"
   ],
   "metadata": {}
  },
  {
   "cell_type": "markdown",
   "source": [],
   "metadata": {}
  }
 ],
 "metadata": {
  "orig_nbformat": 4,
  "language_info": {
   "name": "python",
   "version": "3.9.5",
   "mimetype": "text/x-python",
   "codemirror_mode": {
    "name": "ipython",
    "version": 3
   },
   "pygments_lexer": "ipython3",
   "nbconvert_exporter": "python",
   "file_extension": ".py"
  },
  "kernelspec": {
   "name": "python3",
   "display_name": "Python 3.9.5 64-bit ('main': conda)"
  },
  "interpreter": {
   "hash": "0911f58a462f9fa1cd62eb1a2bda8497dee951890d15b1021f81487d8d0f4a43"
  }
 },
 "nbformat": 4,
 "nbformat_minor": 2
}