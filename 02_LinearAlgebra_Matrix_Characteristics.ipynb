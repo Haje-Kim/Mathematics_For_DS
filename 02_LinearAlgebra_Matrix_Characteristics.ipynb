{
 "cells": [
  {
   "cell_type": "markdown",
   "source": [
    "# **Matrix Characteristics**"
   ],
   "metadata": {}
  },
  {
   "cell_type": "markdown",
   "source": [
    "* When $x^TAx > 0$, matrix A is **positive definite**\r\n",
    "* When $x^TAx \\ge 0$, matrix A is **positive semi-definite**"
   ],
   "metadata": {}
  },
  {
   "cell_type": "markdown",
   "source": [],
   "metadata": {}
  }
 ],
 "metadata": {
  "orig_nbformat": 4,
  "language_info": {
   "name": "python"
  }
 },
 "nbformat": 4,
 "nbformat_minor": 2
}