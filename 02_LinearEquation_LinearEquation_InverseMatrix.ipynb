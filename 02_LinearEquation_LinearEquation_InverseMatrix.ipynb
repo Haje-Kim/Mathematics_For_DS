{
 "cells": [
  {
   "cell_type": "markdown",
   "source": [
    "# **2.4 System of Linear Equations**"
   ],
   "metadata": {}
  },
  {
   "cell_type": "markdown",
   "source": [
    "* **Ax=b**\r\n",
    "* A = coefficient matrix \r\n",
    "* x = unknown vector \r\n",
    "* b = constant vector"
   ],
   "metadata": {}
  },
  {
   "cell_type": "markdown",
   "source": [
    "## **Inverse Matrix**"
   ],
   "metadata": {}
  },
  {
   "cell_type": "markdown",
   "source": [
    "* $A^{-1}A = AA^{-1} = I$"
   ],
   "metadata": {}
  },
  {
   "cell_type": "markdown",
   "source": [
    "* Inverse matrix is a squared matrix \r\n",
    "* Some matrices does not have inverse matrix (invertible matrix vs. non-invertible matrix)"
   ],
   "metadata": {}
  },
  {
   "cell_type": "markdown",
   "source": [
    "* $(A^T)^{-1} = (A^{-1})^T$"
   ],
   "metadata": {}
  },
  {
   "cell_type": "markdown",
   "source": [
    "* $(AB)^{-1} = B^{-1}A^{-1}$\r\n",
    "* $(ABC)^{-1} = C^{-1}B^{-1}A^{-1}$"
   ],
   "metadata": {}
  },
  {
   "cell_type": "markdown",
   "source": [
    "* $A^{-1} = \\frac{1}{det(A)}C^T$\r\n",
    "* Inverse matrix exists when determinant is not $0$"
   ],
   "metadata": {}
  },
  {
   "cell_type": "markdown",
   "source": [
    "## **Sherman-Morrison Formula**"
   ],
   "metadata": {}
  },
  {
   "cell_type": "markdown",
   "source": [
    "* $(A+uv^T)^{-1} = A^{-1} - \\frac{A^{-1}uv^TA^{-1}}{1+v^TA^{-1}u}$"
   ],
   "metadata": {}
  },
  {
   "cell_type": "code",
   "execution_count": 1,
   "source": [
    "import numpy as np\r\n",
    "\r\n",
    "A = np.array([[1,1,0],[0,1,1],[1,1,1]])\r\n",
    "A"
   ],
   "outputs": [
    {
     "output_type": "execute_result",
     "data": {
      "text/plain": [
       "array([[1, 1, 0],\n",
       "       [0, 1, 1],\n",
       "       [1, 1, 1]])"
      ]
     },
     "metadata": {},
     "execution_count": 1
    }
   ],
   "metadata": {}
  },
  {
   "cell_type": "code",
   "execution_count": 2,
   "source": [
    "Ainv = np.linalg.inv(A)\r\n",
    "Ainv"
   ],
   "outputs": [
    {
     "output_type": "execute_result",
     "data": {
      "text/plain": [
       "array([[ 0., -1.,  1.],\n",
       "       [ 1.,  1., -1.],\n",
       "       [-1.,  0.,  1.]])"
      ]
     },
     "metadata": {},
     "execution_count": 2
    }
   ],
   "metadata": {}
  },
  {
   "cell_type": "code",
   "execution_count": 3,
   "source": [
    "A @ Ainv"
   ],
   "outputs": [
    {
     "output_type": "execute_result",
     "data": {
      "text/plain": [
       "array([[1., 0., 0.],\n",
       "       [0., 1., 0.],\n",
       "       [0., 0., 1.]])"
      ]
     },
     "metadata": {},
     "execution_count": 3
    }
   ],
   "metadata": {}
  },
  {
   "cell_type": "markdown",
   "source": [
    "## **Inverse matrix, and the solution of linear equation system**"
   ],
   "metadata": {}
  },
  {
   "cell_type": "markdown",
   "source": [
    "* $Ax=b$\r\n",
    "* $A^{-1}Ax = A^{-1}b$\r\n",
    "* $Ix = A^{-1}b$\r\n",
    "* **$x = A^{-1}b$**"
   ],
   "metadata": {}
  },
  {
   "cell_type": "code",
   "execution_count": 4,
   "source": [
    "b = np.array([[2],[2],[3]])\r\n",
    "b"
   ],
   "outputs": [
    {
     "output_type": "execute_result",
     "data": {
      "text/plain": [
       "array([[2],\n",
       "       [2],\n",
       "       [3]])"
      ]
     },
     "metadata": {},
     "execution_count": 4
    }
   ],
   "metadata": {}
  },
  {
   "cell_type": "code",
   "execution_count": 5,
   "source": [
    "x = Ainv @ b\r\n",
    "x"
   ],
   "outputs": [
    {
     "output_type": "execute_result",
     "data": {
      "text/plain": [
       "array([[1.],\n",
       "       [1.],\n",
       "       [1.]])"
      ]
     },
     "metadata": {},
     "execution_count": 5
    }
   ],
   "metadata": {}
  },
  {
   "cell_type": "code",
   "execution_count": 6,
   "source": [
    "A @ x - b"
   ],
   "outputs": [
    {
     "output_type": "execute_result",
     "data": {
      "text/plain": [
       "array([[0.],\n",
       "       [0.],\n",
       "       [0.]])"
      ]
     },
     "metadata": {},
     "execution_count": 6
    }
   ],
   "metadata": {}
  }
 ],
 "metadata": {
  "orig_nbformat": 4,
  "language_info": {
   "name": "python",
   "version": "3.9.5",
   "mimetype": "text/x-python",
   "codemirror_mode": {
    "name": "ipython",
    "version": 3
   },
   "pygments_lexer": "ipython3",
   "nbconvert_exporter": "python",
   "file_extension": ".py"
  },
  "kernelspec": {
   "name": "python3",
   "display_name": "Python 3.9.5 64-bit ('main': conda)"
  },
  "interpreter": {
   "hash": "0911f58a462f9fa1cd62eb1a2bda8497dee951890d15b1021f81487d8d0f4a43"
  }
 },
 "nbformat": 4,
 "nbformat_minor": 2
}